{
 "cells": [
  {
   "cell_type": "code",
   "execution_count": 1,
   "id": "7444161e-e22a-4094-8a40-a29190a86bf9",
   "metadata": {},
   "outputs": [
    {
     "name": "stdout",
     "output_type": "stream",
     "text": [
      "                         time  latitude  longitude  depth    mag magType  nst  \\\n",
      "0    1999-12-31T18:47:17.140Z    52.868    159.979   53.9  5.280      mb  NaN   \n",
      "1    1999-12-30T00:11:49.100Z    52.152    159.199   59.9  5.365      mb  NaN   \n",
      "2    1999-12-01T16:59:22.830Z    54.512    162.490   33.0  4.855      mb  NaN   \n",
      "3    1999-11-18T16:38:19.590Z    53.257    159.297   78.9  4.770      mb  NaN   \n",
      "4    1999-11-13T21:24:45.980Z    52.513    160.062   38.6  5.400     mwc  NaN   \n",
      "..                        ...       ...        ...    ...    ...     ...  ...   \n",
      "694  1995-01-19T06:14:48.550Z    51.501    159.465   36.4  5.110      mb  NaN   \n",
      "695  1995-01-18T19:38:22.390Z    50.957    156.437  137.4  5.025      mb  NaN   \n",
      "696  1995-01-18T18:11:30.670Z    51.659    160.650   33.0  4.770      mb  NaN   \n",
      "697  1995-01-12T09:51:06.530Z    53.571    159.083   33.0  4.855      mb  NaN   \n",
      "698  1995-01-02T14:42:40.360Z    54.305    159.223  132.6  5.110      mb  NaN   \n",
      "\n",
      "     gap  dmin   rms  ...                   updated  \\\n",
      "0    NaN   NaN  0.92  ...  2014-11-07T01:09:12.929Z   \n",
      "1    NaN   NaN  0.70  ...  2014-11-07T01:09:12.488Z   \n",
      "2    NaN   NaN  1.16  ...  2014-11-07T01:09:04.182Z   \n",
      "3    NaN   NaN  0.95  ...  2014-11-07T01:08:58.873Z   \n",
      "4    NaN   NaN  0.96  ...  2016-11-09T23:57:17.553Z   \n",
      "..   ...   ...   ...  ...                       ...   \n",
      "694  NaN   NaN  1.30  ...  2014-11-07T00:57:09.573Z   \n",
      "695  NaN   NaN  0.90  ...  2014-11-07T00:57:09.465Z   \n",
      "696  NaN   NaN  1.00  ...  2014-11-07T00:57:09.458Z   \n",
      "697  NaN   NaN  1.10  ...  2014-11-07T00:57:07.621Z   \n",
      "698  NaN   NaN  0.80  ...  2014-11-07T00:57:04.475Z   \n",
      "\n",
      "                                              place        type  \\\n",
      "0     91 km ESE of Petropavlovsk-Kamchatsky, Russia  earthquake   \n",
      "1                 102 km SSE of Vilyuchinsk, Russia  earthquake   \n",
      "2         191 km S of Ust’-Kamchatsk Staryy, Russia  earthquake   \n",
      "3     49 km ENE of Petropavlovsk-Kamchatsky, Russia  earthquake   \n",
      "4    112 km ESE of Petropavlovsk-Kamchatsky, Russia  earthquake   \n",
      "..                                              ...         ...   \n",
      "694               174 km SSE of Vilyuchinsk, Russia  earthquake   \n",
      "695             38 km NE of Severo-Kuril’sk, Russia  earthquake   \n",
      "696   205 km SE of Petropavlovsk-Kamchatsky, Russia  earthquake   \n",
      "697                    63 km NE of Yelizovo, Russia  earthquake   \n",
      "698                    58 km SE of Mil’kovo, Russia  earthquake   \n",
      "\n",
      "    horizontalError depthError  magError  magNst    status  locationSource  \\\n",
      "0               NaN        9.4       NaN    46.0  reviewed              us   \n",
      "1               NaN        NaN       NaN    68.0  reviewed              us   \n",
      "2               NaN        NaN       NaN    12.0  reviewed              us   \n",
      "3               NaN        5.8       NaN     9.0  reviewed              us   \n",
      "4               NaN        NaN       NaN     NaN  reviewed              us   \n",
      "..              ...        ...       ...     ...       ...             ...   \n",
      "694             NaN        NaN       NaN    59.0  reviewed              us   \n",
      "695             NaN        5.6       NaN    45.0  reviewed              us   \n",
      "696             NaN        NaN       NaN     6.0  reviewed              us   \n",
      "697             NaN        NaN       NaN    11.0  reviewed              us   \n",
      "698             NaN        NaN       NaN    38.0  reviewed              us   \n",
      "\n",
      "    magSource  \n",
      "0          us  \n",
      "1          us  \n",
      "2          us  \n",
      "3          us  \n",
      "4         hrv  \n",
      "..        ...  \n",
      "694        us  \n",
      "695        us  \n",
      "696        us  \n",
      "697        us  \n",
      "698        us  \n",
      "\n",
      "[699 rows x 22 columns]\n"
     ]
    }
   ],
   "source": [
    "import pandas as pd\n",
    " \n",
    "data = pd.read_csv('1995_2024.csv')\n",
    "print(data)\n"
   ]
  },
  {
   "cell_type": "code",
   "execution_count": 2,
   "id": "766a5f5c-191f-4e77-993a-1f9a7a6e1336",
   "metadata": {},
   "outputs": [],
   "source": [
    "data = data.drop([\n",
    " 'depth',\n",
    " 'magType',\n",
    " 'nst',\n",
    " 'gap',\n",
    " 'dmin',\n",
    " 'rms',\n",
    " 'net',\n",
    " 'id',\n",
    " 'updated',\n",
    " 'place',\n",
    " 'type',\n",
    " 'horizontalError',\n",
    " 'depthError',\n",
    " 'magError',\n",
    " 'magNst',\n",
    " 'status',\n",
    " 'locationSource',\n",
    " 'magSource'], axis=1)"
   ]
  },
  {
   "cell_type": "code",
   "execution_count": 3,
   "id": "9f33237f-45a5-4011-a741-fee88081c447",
   "metadata": {},
   "outputs": [
    {
     "data": {
      "text/plain": [
       "['time', 'latitude', 'longitude', 'mag']"
      ]
     },
     "execution_count": 3,
     "metadata": {},
     "output_type": "execute_result"
    }
   ],
   "source": [
    "[column for column in data]"
   ]
  },
  {
   "cell_type": "code",
   "execution_count": 4,
   "id": "abd0a924-64ca-4bae-ab51-630b1a2748d7",
   "metadata": {},
   "outputs": [
    {
     "data": {
      "text/plain": [
       "0      1999-12-31T18:47:17.140Z\n",
       "1      1999-12-30T00:11:49.100Z\n",
       "2      1999-12-01T16:59:22.830Z\n",
       "3      1999-11-18T16:38:19.590Z\n",
       "4      1999-11-13T21:24:45.980Z\n",
       "                 ...           \n",
       "694    1995-01-19T06:14:48.550Z\n",
       "695    1995-01-18T19:38:22.390Z\n",
       "696    1995-01-18T18:11:30.670Z\n",
       "697    1995-01-12T09:51:06.530Z\n",
       "698    1995-01-02T14:42:40.360Z\n",
       "Name: time, Length: 699, dtype: object"
      ]
     },
     "execution_count": 4,
     "metadata": {},
     "output_type": "execute_result"
    }
   ],
   "source": [
    "data.time"
   ]
  },
  {
   "cell_type": "code",
   "execution_count": 5,
   "id": "a11a3109-8433-4678-9809-d7cf09172953",
   "metadata": {},
   "outputs": [],
   "source": [
    "new_time = []\n",
    "for i in range(len(data.time)):\n",
    "    new_time.append(data['time'][i].replace('T', ' ').replace('Z', ''))"
   ]
  },
  {
   "cell_type": "code",
   "execution_count": 6,
   "id": "ed8dbcd9-c9e1-43fb-a629-f89afa9a2178",
   "metadata": {},
   "outputs": [],
   "source": [
    "data.time = [i for i in new_time]"
   ]
  },
  {
   "cell_type": "code",
   "execution_count": 7,
   "id": "ba6b5403-26f6-4bf8-8cfc-c252ea02e31e",
   "metadata": {
    "scrolled": true
   },
   "outputs": [],
   "source": [
    "import datetime\n",
    "for i in range(len(data.time)):\n",
    "    #data.time[i] = datetime.datetime.strptime(data.time[i], '%Y-%m-%d %H:%M:%S.%f')\n",
    "    data['time'] = pd.to_datetime(data['time'], format='%Y-%m-%d %H:%M:%S.%f')"
   ]
  },
  {
   "cell_type": "code",
   "execution_count": 8,
   "id": "33611873-549d-458f-93e0-c86e97a8e59e",
   "metadata": {},
   "outputs": [],
   "source": [
    "def del_time(i, j):\n",
    "    return (data.time[i] - data.time[j]).total_seconds()/3600/24/365\n",
    "    "
   ]
  },
  {
   "cell_type": "code",
   "execution_count": 9,
   "id": "afcfeb51-eac7-44aa-89d4-d98e657b7062",
   "metadata": {},
   "outputs": [],
   "source": [
    "import haversine\n",
    "from haversine import haversine\n",
    "def dist(i, j):\n",
    "    f1 = (data['latitude'][i], data['longitude'][i])\n",
    "    f2 = (data['latitude'][j], data['longitude'][j])\n",
    "    return haversine(f1, f2)"
   ]
  },
  {
   "cell_type": "code",
   "execution_count": 10,
   "id": "eff5e292-2bb9-4147-bc1a-9c66c42e9c5d",
   "metadata": {},
   "outputs": [],
   "source": [
    "def f_bliz (t, R, M):\n",
    "    #return R**2 * t * 10**(-1 * M)\n",
    "    return ((R**2+(365*t)**2)**0.5)*10**(-0.3*M)"
   ]
  },
  {
   "cell_type": "code",
   "execution_count": 11,
   "id": "1bd3fc79-6cfe-40f3-a12c-95698af40aff",
   "metadata": {},
   "outputs": [],
   "source": [
    "import numpy as np\n",
    "\n",
    "f_bl = []\n",
    "times = []\n",
    "distance = []\n",
    "lat = []\n",
    "lon = []\n",
    "mag = []\n",
    "datetime = []\n",
    "vremya = data.time\n",
    "latitude=data.latitude\n",
    "longitude=data.longitude\n",
    "magnitude=data.mag"
   ]
  },
  {
   "cell_type": "code",
   "execution_count": 12,
   "id": "36b03b8a-9c0f-4731-a297-226079ab3dfc",
   "metadata": {},
   "outputs": [],
   "source": [
    "for i in range(1, len(data)):\n",
    "    sosedi = []\n",
    "    del_times = []\n",
    "    del_distance = []\n",
    "\n",
    "    for j in range(len(data)):\n",
    "        if i != j and del_time(j, i) > 0:\n",
    "            f_value = f_bliz(del_time(j, i), dist(i, j), data.mag[j])\n",
    "            sosedi.append(f_value)\n",
    "            del_times.append(del_time(j, i) * 10 ** (-0.5 * data.mag[j]))\n",
    "            del_distance.append(dist(i, j) ** 2 * 10 ** (-0.5 * data.mag[j]))\n",
    "\n",
    "    if sosedi:  # Проверка, что список не пуст\n",
    "        min_sosedi = min(sosedi)\n",
    "        f_bl.append(min_sosedi)\n",
    "        times.append(del_times[sosedi.index(min_sosedi)])\n",
    "        distance.append(del_distance[sosedi.index(min_sosedi)])\n",
    "        lat.append(latitude[sosedi.index(min_sosedi)])\n",
    "        lon.append(longitude[sosedi.index(min_sosedi)])\n",
    "        mag.append(magnitude[sosedi.index(min_sosedi)])\n",
    "        datetime.append(vremya[sosedi.index(min_sosedi)])\n",
    "    else:\n",
    "        # Можно добавить значение по умолчанию или пропустить\n",
    "        print(f\"Для i={i} не найдено подходящих соседей.\")"
   ]
  },
  {
   "cell_type": "code",
   "execution_count": 13,
   "id": "12d155ba-d339-45ec-aaf5-ff18dc8285a3",
   "metadata": {},
   "outputs": [
    {
     "data": {
      "text/html": [
       "<div>\n",
       "<style scoped>\n",
       "    .dataframe tbody tr th:only-of-type {\n",
       "        vertical-align: middle;\n",
       "    }\n",
       "\n",
       "    .dataframe tbody tr th {\n",
       "        vertical-align: top;\n",
       "    }\n",
       "\n",
       "    .dataframe thead th {\n",
       "        text-align: right;\n",
       "    }\n",
       "</style>\n",
       "<table border=\"1\" class=\"dataframe\">\n",
       "  <thead>\n",
       "    <tr style=\"text-align: right;\">\n",
       "      <th></th>\n",
       "      <th>distance</th>\n",
       "      <th>times</th>\n",
       "      <th>f_bl</th>\n",
       "      <th>lat</th>\n",
       "      <th>lon</th>\n",
       "      <th>mag</th>\n",
       "      <th>datetime</th>\n",
       "    </tr>\n",
       "  </thead>\n",
       "  <tbody>\n",
       "    <tr>\n",
       "      <th>0</th>\n",
       "      <td>20.903926</td>\n",
       "      <td>0.000011</td>\n",
       "      <td>2.489940</td>\n",
       "      <td>52.868</td>\n",
       "      <td>159.979</td>\n",
       "      <td>5.280</td>\n",
       "      <td>1999-12-31 18:47:17.140</td>\n",
       "    </tr>\n",
       "    <tr>\n",
       "      <th>1</th>\n",
       "      <td>139.143508</td>\n",
       "      <td>0.000189</td>\n",
       "      <td>6.470552</td>\n",
       "      <td>52.868</td>\n",
       "      <td>159.979</td>\n",
       "      <td>5.280</td>\n",
       "      <td>1999-12-31 18:47:17.140</td>\n",
       "    </tr>\n",
       "    <tr>\n",
       "      <th>2</th>\n",
       "      <td>9.043839</td>\n",
       "      <td>0.000270</td>\n",
       "      <td>1.985555</td>\n",
       "      <td>52.868</td>\n",
       "      <td>159.979</td>\n",
       "      <td>5.280</td>\n",
       "      <td>1999-12-31 18:47:17.140</td>\n",
       "    </tr>\n",
       "    <tr>\n",
       "      <th>3</th>\n",
       "      <td>3.641355</td>\n",
       "      <td>0.000301</td>\n",
       "      <td>1.623996</td>\n",
       "      <td>52.868</td>\n",
       "      <td>159.979</td>\n",
       "      <td>5.280</td>\n",
       "      <td>1999-12-31 18:47:17.140</td>\n",
       "    </tr>\n",
       "    <tr>\n",
       "      <th>4</th>\n",
       "      <td>4.634143</td>\n",
       "      <td>0.000005</td>\n",
       "      <td>1.156291</td>\n",
       "      <td>52.513</td>\n",
       "      <td>160.062</td>\n",
       "      <td>5.400</td>\n",
       "      <td>1999-11-13 21:24:45.980</td>\n",
       "    </tr>\n",
       "    <tr>\n",
       "      <th>...</th>\n",
       "      <td>...</td>\n",
       "      <td>...</td>\n",
       "      <td>...</td>\n",
       "      <td>...</td>\n",
       "      <td>...</td>\n",
       "      <td>...</td>\n",
       "      <td>...</td>\n",
       "    </tr>\n",
       "    <tr>\n",
       "      <th>693</th>\n",
       "      <td>8.037050</td>\n",
       "      <td>0.000197</td>\n",
       "      <td>1.822186</td>\n",
       "      <td>52.264</td>\n",
       "      <td>159.043</td>\n",
       "      <td>6.000</td>\n",
       "      <td>1995-04-01 05:50:18.460</td>\n",
       "    </tr>\n",
       "    <tr>\n",
       "      <th>694</th>\n",
       "      <td>53.492232</td>\n",
       "      <td>0.000198</td>\n",
       "      <td>3.841122</td>\n",
       "      <td>52.264</td>\n",
       "      <td>159.043</td>\n",
       "      <td>6.000</td>\n",
       "      <td>1995-04-01 05:50:18.460</td>\n",
       "    </tr>\n",
       "    <tr>\n",
       "      <th>695</th>\n",
       "      <td>16.648152</td>\n",
       "      <td>0.000199</td>\n",
       "      <td>2.345549</td>\n",
       "      <td>52.264</td>\n",
       "      <td>159.043</td>\n",
       "      <td>6.000</td>\n",
       "      <td>1995-04-01 05:50:18.460</td>\n",
       "    </tr>\n",
       "    <tr>\n",
       "      <th>696</th>\n",
       "      <td>8.649391</td>\n",
       "      <td>0.000598</td>\n",
       "      <td>2.595874</td>\n",
       "      <td>53.315</td>\n",
       "      <td>159.625</td>\n",
       "      <td>4.770</td>\n",
       "      <td>1995-03-06 09:01:05.880</td>\n",
       "    </tr>\n",
       "    <tr>\n",
       "      <th>697</th>\n",
       "      <td>25.205973</td>\n",
       "      <td>0.000100</td>\n",
       "      <td>2.891147</td>\n",
       "      <td>53.571</td>\n",
       "      <td>159.083</td>\n",
       "      <td>4.855</td>\n",
       "      <td>1995-01-12 09:51:06.530</td>\n",
       "    </tr>\n",
       "  </tbody>\n",
       "</table>\n",
       "<p>698 rows × 7 columns</p>\n",
       "</div>"
      ],
      "text/plain": [
       "       distance     times      f_bl     lat      lon    mag  \\\n",
       "0     20.903926  0.000011  2.489940  52.868  159.979  5.280   \n",
       "1    139.143508  0.000189  6.470552  52.868  159.979  5.280   \n",
       "2      9.043839  0.000270  1.985555  52.868  159.979  5.280   \n",
       "3      3.641355  0.000301  1.623996  52.868  159.979  5.280   \n",
       "4      4.634143  0.000005  1.156291  52.513  160.062  5.400   \n",
       "..          ...       ...       ...     ...      ...    ...   \n",
       "693    8.037050  0.000197  1.822186  52.264  159.043  6.000   \n",
       "694   53.492232  0.000198  3.841122  52.264  159.043  6.000   \n",
       "695   16.648152  0.000199  2.345549  52.264  159.043  6.000   \n",
       "696    8.649391  0.000598  2.595874  53.315  159.625  4.770   \n",
       "697   25.205973  0.000100  2.891147  53.571  159.083  4.855   \n",
       "\n",
       "                   datetime  \n",
       "0   1999-12-31 18:47:17.140  \n",
       "1   1999-12-31 18:47:17.140  \n",
       "2   1999-12-31 18:47:17.140  \n",
       "3   1999-12-31 18:47:17.140  \n",
       "4   1999-11-13 21:24:45.980  \n",
       "..                      ...  \n",
       "693 1995-04-01 05:50:18.460  \n",
       "694 1995-04-01 05:50:18.460  \n",
       "695 1995-04-01 05:50:18.460  \n",
       "696 1995-03-06 09:01:05.880  \n",
       "697 1995-01-12 09:51:06.530  \n",
       "\n",
       "[698 rows x 7 columns]"
      ]
     },
     "execution_count": 13,
     "metadata": {},
     "output_type": "execute_result"
    }
   ],
   "source": [
    "import pandas as pd\n",
    "\n",
    "df = pd.DataFrame({'distance': distance, 'times': times, 'f_bl': f_bl, 'lat': lat, 'lon': lon, 'mag': mag, 'datetime':datetime})\n",
    "df"
   ]
  },
  {
   "cell_type": "code",
   "execution_count": 14,
   "id": "e0c72134-0fbc-4ac6-9464-17e809308d47",
   "metadata": {},
   "outputs": [],
   "source": [
    "df.to_csv('bp1995-2024.csv')"
   ]
  },
  {
   "cell_type": "code",
   "execution_count": 15,
   "id": "9cc269e3-433b-41e4-8676-e328bab2a709",
   "metadata": {},
   "outputs": [],
   "source": [
    "import numpy as np\n",
    "import matplotlib.pyplot as plt\n",
    "import pandas as pd\n",
    "import math"
   ]
  },
  {
   "cell_type": "code",
   "execution_count": 16,
   "id": "1dd914e4-0e21-4ef3-8b10-1545b673b662",
   "metadata": {},
   "outputs": [
    {
     "name": "stdout",
     "output_type": "stream",
     "text": [
      "     Unnamed: 0    distance     times      f_bl     lat      lon    mag  \\\n",
      "0             0   20.903926  0.000011  2.489940  52.868  159.979  5.280   \n",
      "1             1  139.143508  0.000189  6.470552  52.868  159.979  5.280   \n",
      "2             2    9.043839  0.000270  1.985555  52.868  159.979  5.280   \n",
      "3             3    3.641355  0.000301  1.623996  52.868  159.979  5.280   \n",
      "4             4    4.634143  0.000005  1.156291  52.513  160.062  5.400   \n",
      "..          ...         ...       ...       ...     ...      ...    ...   \n",
      "693         693    8.037050  0.000197  1.822186  52.264  159.043  6.000   \n",
      "694         694   53.492232  0.000198  3.841122  52.264  159.043  6.000   \n",
      "695         695   16.648152  0.000199  2.345549  52.264  159.043  6.000   \n",
      "696         696    8.649391  0.000598  2.595874  53.315  159.625  4.770   \n",
      "697         697   25.205973  0.000100  2.891147  53.571  159.083  4.855   \n",
      "\n",
      "                    datetime  \n",
      "0    1999-12-31 18:47:17.140  \n",
      "1    1999-12-31 18:47:17.140  \n",
      "2    1999-12-31 18:47:17.140  \n",
      "3    1999-12-31 18:47:17.140  \n",
      "4    1999-11-13 21:24:45.980  \n",
      "..                       ...  \n",
      "693  1995-04-01 05:50:18.460  \n",
      "694  1995-04-01 05:50:18.460  \n",
      "695  1995-04-01 05:50:18.460  \n",
      "696  1995-03-06 09:01:05.880  \n",
      "697  1995-01-12 09:51:06.530  \n",
      "\n",
      "[698 rows x 8 columns]\n"
     ]
    }
   ],
   "source": [
    "data = pd.read_csv('bp1995-2024.csv')\n",
    "print(data)"
   ]
  },
  {
   "cell_type": "code",
   "execution_count": 17,
   "id": "3f859382-67f0-41d9-a2cf-3a6e9a42fc72",
   "metadata": {},
   "outputs": [
    {
     "data": {
      "image/png": "[encoded data removed]",
      "text/plain": [
       "<Figure size 640x480 with 2 Axes>"
      ]
     },
     "metadata": {},
     "output_type": "display_data"
    }
   ],
   "source": [
    "x = data.times\n",
    "y = data.distance\n",
    "\n",
    "plt.figure()\n",
    "x_log = np.log10(x)\n",
    "y_log = np.log10(y)\n",
    "plt.hist2d(x_log, y_log, bins=30, cmap='jet')\n",
    "plt.xscale('linear')\n",
    "plt.yscale('linear')\n",
    "\n",
    "plt.title('Байеси-Почуцки 1995 - 1999')\n",
    "plt.xlabel('Логарифм перемасштабированного времени, T')\n",
    "plt.ylabel('Логарифм перемасштабированного расстояния, R')\n",
    "plt.colorbar()\n",
    "\n",
    "plt.xlim(-10, -1)\n",
    "plt.ylim(-5, 4)\n",
    "\n",
    "#plt.axline((-0.2000140348882512, -4.712069036493148), slope = -0.885, color='black') #-0.890759x - 4.89023 = y\n",
    "#диагональ\n",
    "#k0 = -1.2\n",
    "#b0 = -6\n",
    "\n",
    "#toch0 = np.linspace(-12, 0, 10)  \n",
    "#stright0 = [k0 * i + b0 for i in toch0]\n",
    "\n",
    "#plt.plot(toch0, stright0, color='black')\n",
    "\n",
    "#перпендикуляр\n",
    "#k = 0.83\n",
    "#b = 6\n",
    "\n",
    "#toch = np.linspace(-12, 0, 10)  \n",
    "#stright = [k * i + b for i in toch]\n",
    "\n",
    "#plt.plot(toch, stright, color='black')\n",
    "plt.show()"
   ]
  },
  {
   "cell_type": "code",
   "execution_count": 18,
   "id": "7785f801-9947-4904-8830-18d13ce4d4d6",
   "metadata": {},
   "outputs": [],
   "source": [
    "nn = []\n",
    "R_list = []\n",
    "T_list = []\n",
    "for i in range(len(data)):\n",
    "    R = np.log10(data.distance[i])\n",
    "    T = np.log10(data.times[i])\n",
    "    if (R >= (-1.2 * T - 6) and R >= (0.83 * T + 6)):\n",
    "        nn.append(data.f_bl[i])\n",
    "        R_list.append(R)\n",
    "        T_list.append(T)"
   ]
  },
  {
   "cell_type": "code",
   "execution_count": 19,
   "id": "d8427723-4f50-4ef8-8395-5e628110a2ab",
   "metadata": {},
   "outputs": [
    {
     "data": {
      "text/plain": [
       "3"
      ]
     },
     "execution_count": 19,
     "metadata": {},
     "output_type": "execute_result"
    }
   ],
   "source": [
    "len(nn)"
   ]
  },
  {
   "cell_type": "code",
   "execution_count": 20,
   "id": "b8949685-d39a-4da5-b81a-332ee7a043c3",
   "metadata": {},
   "outputs": [
    {
     "data": {
      "text/plain": [
       "<matplotlib.colorbar.Colorbar at 0x23ca4311310>"
      ]
     },
     "execution_count": 20,
     "metadata": {},
     "output_type": "execute_result"
    },
    {
     "data": {
      "image/png": "[encoded data removed]",
      "text/plain": [
       "<Figure size 640x480 with 2 Axes>"
      ]
     },
     "metadata": {},
     "output_type": "display_data"
    }
   ],
   "source": [
    "x = T_list\n",
    "y = R_list\n",
    "\n",
    "plt.figure()\n",
    "plt.hexbin(x, y, gridsize=22, cmap='jet')\n",
    "plt.xscale('linear')\n",
    "plt.yscale('linear')\n",
    "\n",
    "plt.xlabel('Rescaled time, T')\n",
    "plt.ylabel('Rescaled distance, R')\n",
    "plt.colorbar()"
   ]
  },
  {
   "cell_type": "code",
   "execution_count": 21,
   "id": "3d2fb75e-69ee-425a-b164-0ec7c7363e1c",
   "metadata": {},
   "outputs": [
    {
     "data": {
      "text/plain": [
       "Text(0, 0.5, 'No. of events')"
      ]
     },
     "execution_count": 21,
     "metadata": {},
     "output_type": "execute_result"
    },
    {
     "data": {
      "image/png": "[encoded data removed]",
      "text/plain": [
       "<Figure size 640x480 with 1 Axes>"
      ]
     },
     "metadata": {},
     "output_type": "display_data"
    }
   ],
   "source": [
    "nn1 = [np.log10(i) for i in nn]\n",
    "plt.hist(nn1, color = 'pink', edgecolor = 'black',\n",
    "         bins = 20)\n",
    "plt.title('1995 - 2024')\n",
    "plt.xlabel('Nearest-neighbor distance,log η')\n",
    "plt.ylabel('No. of events')"
   ]
  },
  {
   "cell_type": "code",
   "execution_count": 22,
   "id": "583a974c-0602-4d09-a7c8-0f6937e21ffc",
   "metadata": {},
   "outputs": [],
   "source": [
    "f_bl1 = [math.log(i, 10) for i in f_bl]"
   ]
  },
  {
   "cell_type": "code",
   "execution_count": 23,
   "id": "182f629d-ac4d-4895-a6d4-8c3b1db35604",
   "metadata": {},
   "outputs": [
    {
     "data": {
      "text/plain": [
       "Text(0, 0.5, 'No. of events')"
      ]
     },
     "execution_count": 23,
     "metadata": {},
     "output_type": "execute_result"
    },
    {
     "data": {
      "image/png": "[encoded data removed]",
      "text/plain": [
       "<Figure size 640x480 with 1 Axes>"
      ]
     },
     "metadata": {},
     "output_type": "display_data"
    }
   ],
   "source": [
    "import matplotlib\n",
    "import matplotlib.pyplot as plt\n",
    "plt.hist(f_bl1, color = 'pink', edgecolor = 'black',\n",
    "         bins = 10)\n",
    "plt.xlabel('Nearest-neighbor distance,log η')\n",
    "plt.ylabel('No. of events')"
   ]
  },
  {
   "cell_type": "code",
   "execution_count": null,
   "id": "451af988-0a9a-4b7f-a1b5-28fc066628ec",
   "metadata": {},
   "outputs": [],
   "source": []
  },
  {
   "cell_type": "code",
   "execution_count": null,
   "id": "8190fc30-e6e0-4b5d-98be-4d82c93ea97d",
   "metadata": {},
   "outputs": [],
   "source": []
  },
  {
   "cell_type": "code",
   "execution_count": null,
   "id": "09273aac-062a-4939-8f13-b7e7a786bbac",
   "metadata": {},
   "outputs": [],
   "source": []
  },
  {
   "cell_type": "code",
   "execution_count": null,
   "id": "7578e65c-e04f-469c-8d2b-f96f209070c5",
   "metadata": {},
   "outputs": [],
   "source": []
  },
  {
   "cell_type": "code",
   "execution_count": null,
   "id": "409da398-b1be-4341-ab68-e324108bde3f",
   "metadata": {},
   "outputs": [],
   "source": []
  }
 ],
 "metadata": {
  "kernelspec": {
   "display_name": "Python 3 (ipykernel)",
   "language": "python",
   "name": "python3"
  },
  "language_info": {
   "codemirror_mode": {
    "name": "ipython",
    "version": 3
   },
   "file_extension": ".py",
   "mimetype": "text/x-python",
   "name": "python",
   "nbconvert_exporter": "python",
   "pygments_lexer": "ipython3",
   "version": "3.12.3"
  }
 },
 "nbformat": 4,
 "nbformat_minor": 5
}
